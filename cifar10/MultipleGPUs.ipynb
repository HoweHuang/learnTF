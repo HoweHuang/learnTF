{
 "cells": [
  {
   "cell_type": "markdown",
   "metadata": {},
   "source": [
    "test for zip()"
   ]
  },
  {
   "cell_type": "code",
   "execution_count": 5,
   "metadata": {},
   "outputs": [
    {
     "name": "stdout",
     "output_type": "stream",
     "text": [
      "Help on class zip in module builtins:\n",
      "\n",
      "class zip(object)\n",
      " |  zip(iter1 [,iter2 [...]]) --> zip object\n",
      " |  \n",
      " |  Return a zip object whose .__next__() method returns a tuple where\n",
      " |  the i-th element comes from the i-th iterable argument.  The .__next__()\n",
      " |  method continues until the shortest iterable in the argument sequence\n",
      " |  is exhausted and then it raises StopIteration.\n",
      " |  \n",
      " |  Methods defined here:\n",
      " |  \n",
      " |  __getattribute__(self, name, /)\n",
      " |      Return getattr(self, name).\n",
      " |  \n",
      " |  __iter__(self, /)\n",
      " |      Implement iter(self).\n",
      " |  \n",
      " |  __new__(*args, **kwargs) from builtins.type\n",
      " |      Create and return a new object.  See help(type) for accurate signature.\n",
      " |  \n",
      " |  __next__(self, /)\n",
      " |      Implement next(self).\n",
      " |  \n",
      " |  __reduce__(...)\n",
      " |      Return state information for pickling.\n",
      "\n"
     ]
    }
   ],
   "source": [
    "help(zip)"
   ]
  },
  {
   "cell_type": "code",
   "execution_count": 8,
   "metadata": {},
   "outputs": [
    {
     "data": {
      "text/plain": [
       "{1: 2, 2: 3, 3: 4}"
      ]
     },
     "execution_count": 8,
     "metadata": {},
     "output_type": "execute_result"
    }
   ],
   "source": [
    "a = [[1,2,3],[2,3,4]]\n",
    "dict(zip(*a))"
   ]
  },
  {
   "cell_type": "code",
   "execution_count": 9,
   "metadata": {},
   "outputs": [],
   "source": [
    "a = [[1,2,3],[2,3,4],[3,4,5]]"
   ]
  },
  {
   "cell_type": "code",
   "execution_count": 10,
   "metadata": {},
   "outputs": [
    {
     "name": "stdout",
     "output_type": "stream",
     "text": [
      "(1, 2, 3)\n",
      "(2, 3, 4)\n",
      "(3, 4, 5)\n"
     ]
    }
   ],
   "source": [
    "for var in zip(*a):\n",
    "    print(var)"
   ]
  },
  {
   "cell_type": "code",
   "execution_count": 12,
   "metadata": {},
   "outputs": [
    {
     "name": "stderr",
     "output_type": "stream",
     "text": [
      "/home/tripleh/anaconda3/envs/tensorflow/lib/python3.6/site-packages/h5py/__init__.py:36: FutureWarning: Conversion of the second argument of issubdtype from `float` to `np.floating` is deprecated. In future, it will be treated as `np.float64 == np.dtype(float).type`.\n",
      "  from ._conv import register_converters as _register_converters\n"
     ]
    },
    {
     "name": "stdout",
     "output_type": "stream",
     "text": [
      "Help on function expand_dims in module tensorflow.python.ops.array_ops:\n",
      "\n",
      "expand_dims(input, axis=None, name=None, dim=None)\n",
      "    Inserts a dimension of 1 into a tensor's shape.\n",
      "    \n",
      "    Given a tensor `input`, this operation inserts a dimension of 1 at the\n",
      "    dimension index `axis` of `input`'s shape. The dimension index `axis` starts\n",
      "    at zero; if you specify a negative number for `axis` it is counted backward\n",
      "    from the end.\n",
      "    \n",
      "    This operation is useful if you want to add a batch dimension to a single\n",
      "    element. For example, if you have a single image of shape `[height, width,\n",
      "    channels]`, you can make it a batch of 1 image with `expand_dims(image, 0)`,\n",
      "    which will make the shape `[1, height, width, channels]`.\n",
      "    \n",
      "    Other examples:\n",
      "    \n",
      "    ```python\n",
      "    # 't' is a tensor of shape [2]\n",
      "    tf.shape(tf.expand_dims(t, 0))  # [1, 2]\n",
      "    tf.shape(tf.expand_dims(t, 1))  # [2, 1]\n",
      "    tf.shape(tf.expand_dims(t, -1))  # [2, 1]\n",
      "    \n",
      "    # 't2' is a tensor of shape [2, 3, 5]\n",
      "    tf.shape(tf.expand_dims(t2, 0))  # [1, 2, 3, 5]\n",
      "    tf.shape(tf.expand_dims(t2, 2))  # [2, 3, 1, 5]\n",
      "    tf.shape(tf.expand_dims(t2, 3))  # [2, 3, 5, 1]\n",
      "    ```\n",
      "    \n",
      "    This operation requires that:\n",
      "    \n",
      "    `-1-input.dims() <= dim <= input.dims()`\n",
      "    \n",
      "    This operation is related to `squeeze()`, which removes dimensions of\n",
      "    size 1.\n",
      "    \n",
      "    Args:\n",
      "      input: A `Tensor`.\n",
      "      axis: 0-D (scalar). Specifies the dimension index at which to\n",
      "        expand the shape of `input`. Must be in the range\n",
      "        `[-rank(input) - 1, rank(input)]`.\n",
      "      name: The name of the output `Tensor`.\n",
      "      dim: 0-D (scalar). Equivalent to `axis`, to be deprecated.\n",
      "    \n",
      "    Returns:\n",
      "      A `Tensor` with the same data as `input`, but its shape has an additional\n",
      "      dimension of size 1 added.\n",
      "    \n",
      "    Raises:\n",
      "      ValueError: if both `dim` and `axis` are specified.\n",
      "\n"
     ]
    }
   ],
   "source": [
    "import tensorflow as tf\n",
    "help(tf.expand_dims)"
   ]
  },
  {
   "cell_type": "code",
   "execution_count": 15,
   "metadata": {},
   "outputs": [
    {
     "name": "stdout",
     "output_type": "stream",
     "text": [
      "[[1, 3], [1, 3]]\n"
     ]
    }
   ],
   "source": [
    "b = []\n",
    "c = [1,3]\n",
    "b.append(c)\n",
    "b.append(c)\n",
    "print(b)"
   ]
  },
  {
   "cell_type": "code",
   "execution_count": 17,
   "metadata": {},
   "outputs": [
    {
     "name": "stdout",
     "output_type": "stream",
     "text": [
      "Help on function concat in module tensorflow.python.ops.array_ops:\n",
      "\n",
      "concat(values, axis, name='concat')\n",
      "    Concatenates tensors along one dimension.\n",
      "    \n",
      "    Concatenates the list of tensors `values` along dimension `axis`.  If\n",
      "    `values[i].shape = [D0, D1, ... Daxis(i), ...Dn]`, the concatenated\n",
      "    result has shape\n",
      "    \n",
      "        [D0, D1, ... Raxis, ...Dn]\n",
      "    \n",
      "    where\n",
      "    \n",
      "        Raxis = sum(Daxis(i))\n",
      "    \n",
      "    That is, the data from the input tensors is joined along the `axis`\n",
      "    dimension.\n",
      "    \n",
      "    The number of dimensions of the input tensors must match, and all dimensions\n",
      "    except `axis` must be equal.\n",
      "    \n",
      "    For example:\n",
      "    \n",
      "    ```python\n",
      "    t1 = [[1, 2, 3], [4, 5, 6]]\n",
      "    t2 = [[7, 8, 9], [10, 11, 12]]\n",
      "    tf.concat([t1, t2], 0)  # [[1, 2, 3], [4, 5, 6], [7, 8, 9], [10, 11, 12]]\n",
      "    tf.concat([t1, t2], 1)  # [[1, 2, 3, 7, 8, 9], [4, 5, 6, 10, 11, 12]]\n",
      "    \n",
      "    # tensor t3 with shape [2, 3]\n",
      "    # tensor t4 with shape [2, 3]\n",
      "    tf.shape(tf.concat([t3, t4], 0))  # [4, 3]\n",
      "    tf.shape(tf.concat([t3, t4], 1))  # [2, 6]\n",
      "    ```\n",
      "    As in Python, the `axis` could also be negative numbers. Negative `axis`\n",
      "    are interpreted as counting from the end of the rank, i.e.,\n",
      "     `axis + rank(values)`-th dimension.\n",
      "    \n",
      "    For example:\n",
      "    \n",
      "    ```python\n",
      "    t1 = [[[1, 2], [2, 3]], [[4, 4], [5, 3]]]\n",
      "    t2 = [[[7, 4], [8, 4]], [[2, 10], [15, 11]]]\n",
      "    tf.concat([t1, t2], -1)\n",
      "    ```\n",
      "    \n",
      "    would produce:\n",
      "    \n",
      "    ```python\n",
      "    [[[ 1,  2,  7,  4],\n",
      "      [ 2,  3,  8,  4]],\n",
      "    \n",
      "     [[ 4,  4,  2, 10],\n",
      "      [ 5,  3, 15, 11]]]\n",
      "    ```\n",
      "    \n",
      "    Note: If you are concatenating along a new axis consider using stack.\n",
      "    E.g.\n",
      "    \n",
      "    ```python\n",
      "    tf.concat([tf.expand_dims(t, axis) for t in tensors], axis)\n",
      "    ```\n",
      "    \n",
      "    can be rewritten as\n",
      "    \n",
      "    ```python\n",
      "    tf.stack(tensors, axis=axis)\n",
      "    ```\n",
      "    \n",
      "    Args:\n",
      "      values: A list of `Tensor` objects or a single `Tensor`.\n",
      "      axis: 0-D `int32` `Tensor`.  Dimension along which to concatenate. Must be\n",
      "        in the range `[-rank(values), rank(values))`. As in Python, indexing\n",
      "        for axis is 0-based. Positive axis in the rage of\n",
      "        `[0, rank(values))` refers to `axis`-th dimension. And negative axis\n",
      "        refers to `axis + rank(values)`-th dimension.\n",
      "      name: A name for the operation (optional).\n",
      "    \n",
      "    Returns:\n",
      "      A `Tensor` resulting from concatenation of the input tensors.\n",
      "\n"
     ]
    }
   ],
   "source": [
    "help(tf.concat)"
   ]
  },
  {
   "cell_type": "code",
   "execution_count": 23,
   "metadata": {},
   "outputs": [
    {
     "name": "stdout",
     "output_type": "stream",
     "text": [
      "[1, 3]\n"
     ]
    },
    {
     "data": {
      "text/plain": [
       "array([1, 3, 1, 3])"
      ]
     },
     "execution_count": 23,
     "metadata": {},
     "output_type": "execute_result"
    }
   ],
   "source": [
    "import numpy as np\n",
    "print(b[1])\n",
    "np.concatenate(b, 0)"
   ]
  }
 ],
 "metadata": {
  "kernelspec": {
   "display_name": "Python 3",
   "language": "python",
   "name": "python3"
  },
  "language_info": {
   "codemirror_mode": {
    "name": "ipython",
    "version": 3
   },
   "file_extension": ".py",
   "mimetype": "text/x-python",
   "name": "python",
   "nbconvert_exporter": "python",
   "pygments_lexer": "ipython3",
   "version": "3.6.4"
  }
 },
 "nbformat": 4,
 "nbformat_minor": 2
}
